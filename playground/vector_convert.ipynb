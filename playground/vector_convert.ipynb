{
 "cells": [
  {
   "cell_type": "code",
   "execution_count": 16,
   "metadata": {},
   "outputs": [
    {
     "name": "stdout",
     "output_type": "stream",
     "text": [
      "[4, 5]\n",
      "Vector(2.0000,2.0000)\n"
     ]
    }
   ],
   "source": [
    "import infra.vmath as vmath\n",
    "import pygame\n",
    "\n",
    "class Vector(vmath.Vector):\n",
    "    def __init__(cls, x, y=None) -> None:\n",
    "        if isinstance(x, pygame.Vector2):\n",
    "            return super().__init__(x.x, x.y)\n",
    "        if isinstance(x, list):\n",
    "            return super().__init__(x[0], x[1])\n",
    "        if isinstance(x, Vector):\n",
    "            return super().__init__(x.x, x.y)\n",
    "        return super().__init__(x, y)\n",
    "\n",
    "class Vector2(pygame.Vector2):\n",
    "    def __init__(cls, x, y=None) -> None:\n",
    "        if isinstance(x, Vector):\n",
    "            return super().__init__(x.x, x.y)\n",
    "        else:\n",
    "            return super().__init__(x, y)\n",
    "    pass \n",
    "\n",
    "v = Vector(3,4)\n",
    "\n",
    "def func(vector: Vector2):\n",
    "    x = Vector2(1, 1)\n",
    "    y = x + vector\n",
    "    print(y)\n",
    "    \n",
    "func(Vector2(v))\n",
    "\n",
    "def func2(vector: Vector):\n",
    "    x = Vector(1, 1)\n",
    "    y = x + Vector(vector)\n",
    "    print(y)\n",
    "    \n",
    "func2(Vector(1,1))"
   ]
  }
 ],
 "metadata": {
  "kernelspec": {
   "display_name": "Python 3.10.6 ('venv': venv)",
   "language": "python",
   "name": "python3"
  },
  "language_info": {
   "codemirror_mode": {
    "name": "ipython",
    "version": 3
   },
   "file_extension": ".py",
   "mimetype": "text/x-python",
   "name": "python",
   "nbconvert_exporter": "python",
   "pygments_lexer": "ipython3",
   "version": "3.10.6"
  },
  "orig_nbformat": 4,
  "vscode": {
   "interpreter": {
    "hash": "3e3a2a5367eb55742ce5cb38ecdede0d3a4deba9b1503ebd5d488bb4046204ed"
   }
  }
 },
 "nbformat": 4,
 "nbformat_minor": 2
}
