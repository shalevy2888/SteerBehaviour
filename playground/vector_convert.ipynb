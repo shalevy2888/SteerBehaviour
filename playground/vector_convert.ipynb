{
 "cells": [
  {
   "cell_type": "code",
   "execution_count": 13,
   "metadata": {},
   "outputs": [
    {
     "name": "stdout",
     "output_type": "stream",
     "text": [
      "v1:Vector(0.0000,1.0000) and v2:Vector(1.0000,1.0000) a:45.0\n",
      "v1:Vector(0.0000,1.0000) and v2:Vector(1.0000,0.0000) a:90.0\n",
      "v1:Vector(0.0000,1.0000) and v2:Vector(-1.0000,0.0000) a:90.0\n",
      "v1:Vector(0.0000,1.0000) and v2:Vector(0.0000,1.0000) a:0.0\n",
      "v1:Vector(0.0000,1.0000) and v2:Vector(0.0000,-1.0000) a:180.0\n",
      "v1:Vector(0.0000,1.0000) and v2:Vector(1.0000,-1.0000) a:135.0\n",
      "v1:Vector(0.0000,1.0000) and v2:Vector(-1.0000,-1.0000) a:135.0\n",
      "v1:Vector(0.0000,1.0000) and v2:Vector(-4.0000,-4.0000) a:135.0\n",
      "v1:Vector(0.0000,10.0000) and v2:Vector(-4.0000,-4.0000) a:135.0\n"
     ]
    }
   ],
   "source": [
    "from infra.vmath import Vector, dot \n",
    "import math\n",
    "\n",
    "def angle_between(v1, v2) -> float:\n",
    "    return math.acos(dot(v1, v2) / (v1.length() * v2.length()))\n",
    "\n",
    "def print_angle(v1, v2):\n",
    "    print(f'v1:{v1} and v2:{v2} a:{math.degrees(angle_between(v1, v2)):.1f}')\n",
    "\n",
    "print_angle(Vector(0, 1), Vector(1, 1))\n",
    "print_angle(Vector(0, 1), Vector(1, 0))\n",
    "print_angle(Vector(0, 1), Vector(-1, 0))\n",
    "print_angle(Vector(0, 1), Vector(0, 1))\n",
    "print_angle(Vector(0, 1), Vector(0, -1))\n",
    "print_angle(Vector(0, 1), Vector(1, -1))\n",
    "print_angle(Vector(0, 1), Vector(-1, -1))\n",
    "print_angle(Vector(0, 1), Vector(-4, -4))\n",
    "print_angle(Vector(0, 10), Vector(-4, -4))"
   ]
  },
  {
   "cell_type": "code",
   "execution_count": 16,
   "metadata": {},
   "outputs": [
    {
     "name": "stdout",
     "output_type": "stream",
     "text": [
      "[4, 5]\n",
      "Vector(2.0000,2.0000)\n"
     ]
    }
   ],
   "source": [
    "import infra.vmath as vmath\n",
    "import pygame\n",
    "\n",
    "class Vector(vmath.Vector):\n",
    "    def __init__(cls, x, y=None) -> None:\n",
    "        if isinstance(x, pygame.Vector2):\n",
    "            return super().__init__(x.x, x.y)\n",
    "        if isinstance(x, list):\n",
    "            return super().__init__(x[0], x[1])\n",
    "        if isinstance(x, Vector):\n",
    "            return super().__init__(x.x, x.y)\n",
    "        return super().__init__(x, y)\n",
    "\n",
    "class Vector2(pygame.Vector2):\n",
    "    def __init__(cls, x, y=None) -> None:\n",
    "        if isinstance(x, Vector):\n",
    "            return super().__init__(x.x, x.y)\n",
    "        else:\n",
    "            return super().__init__(x, y)\n",
    "    pass \n",
    "\n",
    "v = Vector(3,4)\n",
    "\n",
    "def func(vector: Vector2):\n",
    "    x = Vector2(1, 1)\n",
    "    y = x + vector\n",
    "    print(y)\n",
    "    \n",
    "func(Vector2(v))\n",
    "\n",
    "def func2(vector: Vector):\n",
    "    x = Vector(1, 1)\n",
    "    y = x + Vector(vector)\n",
    "    print(y)\n",
    "    \n",
    "func2(Vector(1,1))"
   ]
  },
  {
   "cell_type": "code",
   "execution_count": 24,
   "metadata": {},
   "outputs": [
    {
     "name": "stdout",
     "output_type": "stream",
     "text": [
      "[0.0, 0.5623413251903491, 0.668740304976422, 0.7400828044922853, 0.7952707287670506, 0.8408964152537145, 0.8801117367933934, 0.9146912192286945, 0.9457416090031758, 0.9740037464252967, 1.0]\n"
     ]
    }
   ],
   "source": [
    "\n",
    "def f(d: float, p=2):\n",
    "    return d**(1/p)\n",
    "\n",
    "res = []\n",
    "i: float=0.0\n",
    "while (i<1):\n",
    "    res.append(f(i,4))\n",
    "    i += 0.1\n",
    "    \n",
    "print(res)"
   ]
  }
 ],
 "metadata": {
  "kernelspec": {
   "display_name": "Python 3.10.6 ('venv': venv)",
   "language": "python",
   "name": "python3"
  },
  "language_info": {
   "codemirror_mode": {
    "name": "ipython",
    "version": 3
   },
   "file_extension": ".py",
   "mimetype": "text/x-python",
   "name": "python",
   "nbconvert_exporter": "python",
   "pygments_lexer": "ipython3",
   "version": "3.10.6"
  },
  "orig_nbformat": 4,
  "vscode": {
   "interpreter": {
    "hash": "3e3a2a5367eb55742ce5cb38ecdede0d3a4deba9b1503ebd5d488bb4046204ed"
   }
  }
 },
 "nbformat": 4,
 "nbformat_minor": 2
}
